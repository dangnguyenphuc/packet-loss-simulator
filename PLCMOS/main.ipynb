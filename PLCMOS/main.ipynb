{
 "cells": [
  {
   "cell_type": "code",
   "execution_count": 61,
   "id": "1ba093e3",
   "metadata": {},
   "outputs": [],
   "source": [
    "import os\n",
    "import shutil"
   ]
  },
  {
   "cell_type": "code",
   "execution_count": 62,
   "id": "347e9183",
   "metadata": {},
   "outputs": [],
   "source": [
    "PACKET_LOSS_TOOL_DIR = \"/home/dangnp/workspace/tools/loss-simulator/frontend/loss-simulator/public/audio\"\n",
    "\n",
    "OPUS_PLC_SAMPLE_DIR = \"./audio-opusPlc\"\n",
    "NORMAL_SAMPLE_DIR = \"./audio-normal\"\n",
    "SCORED_AUDIO_DIR = \"./scored-audio\"\n",
    "\n",
    "NETWORK_TYPE = [\"3g\", \"4g\"]\n",
    "LOSS_PERCENTAGE = [\"0\", \"10\", \"30\", \"50\", \"70\", \"90\"]\n",
    "AUDIO_FILE_NAME = [\"opusPlc\", \"normal\"]\n",
    "AUDIO_FILE_TYPE = \".wav\""
   ]
  },
  {
   "cell_type": "code",
   "execution_count": 63,
   "id": "4187585c",
   "metadata": {},
   "outputs": [
    {
     "data": {
      "text/plain": [
       "'./audio-opusPlc'"
      ]
     },
     "execution_count": 63,
     "metadata": {},
     "output_type": "execute_result"
    }
   ],
   "source": [
    "shutil.copytree(PACKET_LOSS_TOOL_DIR, OPUS_PLC_SAMPLE_DIR, dirs_exist_ok=True)"
   ]
  },
  {
   "cell_type": "code",
   "execution_count": 64,
   "id": "4a7617d8",
   "metadata": {},
   "outputs": [
    {
     "data": {
      "text/plain": [
       "'./audio-normal'"
      ]
     },
     "execution_count": 64,
     "metadata": {},
     "output_type": "execute_result"
    }
   ],
   "source": [
    "shutil.copytree(PACKET_LOSS_TOOL_DIR, NORMAL_SAMPLE_DIR, dirs_exist_ok=True)"
   ]
  },
  {
   "cell_type": "code",
   "execution_count": 65,
   "id": "79251633",
   "metadata": {},
   "outputs": [],
   "source": [
    "!rm -rf scored-audio\n",
    "os.makedirs(SCORED_AUDIO_DIR, exist_ok=True)"
   ]
  },
  {
   "cell_type": "markdown",
   "id": "b83fe142",
   "metadata": {},
   "source": [
    "### Create audio folder"
   ]
  },
  {
   "cell_type": "markdown",
   "id": "c89c9e8a",
   "metadata": {},
   "source": [
    "Generation function"
   ]
  },
  {
   "cell_type": "code",
   "execution_count": 66,
   "id": "3d90cbcb",
   "metadata": {},
   "outputs": [],
   "source": [
    "def genAudioFiles(audioType = AUDIO_FILE_NAME[0]):\n",
    "    counter = 0\n",
    "    if audioType == AUDIO_FILE_NAME[0]:\n",
    "        baseDir = OPUS_PLC_SAMPLE_DIR\n",
    "    else:\n",
    "        baseDir = NORMAL_SAMPLE_DIR\n",
    "    sampleFolder = os.listdir(baseDir)\n",
    "    sampleFolder.sort()\n",
    "    for folder in sampleFolder:\n",
    "        print(f\"Processing {folder} ...\")\n",
    "        folderPath = baseDir + \"/\" + folder\n",
    "        target = folderPath + \"/\" + [file for file in os.listdir(folderPath) if file.startswith(\"speaker\")][0]\n",
    "        network = NETWORK_TYPE[counter // len(LOSS_PERCENTAGE)]\n",
    "        loss = LOSS_PERCENTAGE[counter % len(LOSS_PERCENTAGE)]\n",
    "        dest = SCORED_AUDIO_DIR + \"/\" + f\"{network}-loss{loss}\"\n",
    "        filename = audioType + AUDIO_FILE_TYPE\n",
    "        os.makedirs(dest, exist_ok=True)\n",
    "\n",
    "        shutil.copyfile(target, dest + \"/\" + filename)\n",
    "        counter += 1"
   ]
  },
  {
   "cell_type": "markdown",
   "id": "8bccfd42",
   "metadata": {},
   "source": [
    "Start generating"
   ]
  },
  {
   "cell_type": "code",
   "execution_count": 67,
   "id": "af02f30c",
   "metadata": {},
   "outputs": [
    {
     "name": "stdout",
     "output_type": "stream",
     "text": [
      "Processing 26-09-2025_123058 ...\n",
      "Processing 26-09-2025_123136 ...\n",
      "Processing 26-09-2025_123213 ...\n",
      "Processing 26-09-2025_123251 ...\n",
      "Processing 26-09-2025_123328 ...\n",
      "Processing 26-09-2025_123406 ...\n",
      "Processing 26-09-2025_123443 ...\n",
      "Processing 26-09-2025_123521 ...\n",
      "Processing 26-09-2025_123558 ...\n",
      "Processing 26-09-2025_123635 ...\n",
      "Processing 26-09-2025_123712 ...\n",
      "Processing 26-09-2025_123750 ...\n"
     ]
    }
   ],
   "source": [
    "genAudioFiles(AUDIO_FILE_NAME[0])\n"
   ]
  },
  {
   "cell_type": "code",
   "execution_count": 69,
   "id": "c54010b5",
   "metadata": {},
   "outputs": [
    {
     "name": "stdout",
     "output_type": "stream",
     "text": [
      "Processing 26-09-2025_122027 ...\n"
     ]
    },
    {
     "ename": "IndexError",
     "evalue": "list index out of range",
     "output_type": "error",
     "traceback": [
      "\u001b[31m---------------------------------------------------------------------------\u001b[39m",
      "\u001b[31mIndexError\u001b[39m                                Traceback (most recent call last)",
      "\u001b[36mCell\u001b[39m\u001b[36m \u001b[39m\u001b[32mIn[69]\u001b[39m\u001b[32m, line 1\u001b[39m\n\u001b[32m----> \u001b[39m\u001b[32m1\u001b[39m \u001b[43mgenAudioFiles\u001b[49m\u001b[43m(\u001b[49m\u001b[43mAUDIO_FILE_NAME\u001b[49m\u001b[43m[\u001b[49m\u001b[32;43m1\u001b[39;49m\u001b[43m]\u001b[49m\u001b[43m)\u001b[49m\n",
      "\u001b[36mCell\u001b[39m\u001b[36m \u001b[39m\u001b[32mIn[66]\u001b[39m\u001b[32m, line 12\u001b[39m, in \u001b[36mgenAudioFiles\u001b[39m\u001b[34m(audioType)\u001b[39m\n\u001b[32m     10\u001b[39m \u001b[38;5;28mprint\u001b[39m(\u001b[33mf\u001b[39m\u001b[33m\"\u001b[39m\u001b[33mProcessing \u001b[39m\u001b[38;5;132;01m{\u001b[39;00mfolder\u001b[38;5;132;01m}\u001b[39;00m\u001b[33m ...\u001b[39m\u001b[33m\"\u001b[39m)\n\u001b[32m     11\u001b[39m folderPath = baseDir + \u001b[33m\"\u001b[39m\u001b[33m/\u001b[39m\u001b[33m\"\u001b[39m + folder\n\u001b[32m---> \u001b[39m\u001b[32m12\u001b[39m target = folderPath + \u001b[33m\"\u001b[39m\u001b[33m/\u001b[39m\u001b[33m\"\u001b[39m + \u001b[43m[\u001b[49m\u001b[43mfile\u001b[49m\u001b[43m \u001b[49m\u001b[38;5;28;43;01mfor\u001b[39;49;00m\u001b[43m \u001b[49m\u001b[43mfile\u001b[49m\u001b[43m \u001b[49m\u001b[38;5;129;43;01min\u001b[39;49;00m\u001b[43m \u001b[49m\u001b[43mos\u001b[49m\u001b[43m.\u001b[49m\u001b[43mlistdir\u001b[49m\u001b[43m(\u001b[49m\u001b[43mfolderPath\u001b[49m\u001b[43m)\u001b[49m\u001b[43m \u001b[49m\u001b[38;5;28;43;01mif\u001b[39;49;00m\u001b[43m \u001b[49m\u001b[43mfile\u001b[49m\u001b[43m.\u001b[49m\u001b[43mstartswith\u001b[49m\u001b[43m(\u001b[49m\u001b[33;43m\"\u001b[39;49m\u001b[33;43mspeaker\u001b[39;49m\u001b[33;43m\"\u001b[39;49m\u001b[43m)\u001b[49m\u001b[43m]\u001b[49m\u001b[43m[\u001b[49m\u001b[32;43m0\u001b[39;49m\u001b[43m]\u001b[49m\n\u001b[32m     13\u001b[39m network = NETWORK_TYPE[counter // \u001b[38;5;28mlen\u001b[39m(LOSS_PERCENTAGE)]\n\u001b[32m     14\u001b[39m loss = LOSS_PERCENTAGE[counter % \u001b[38;5;28mlen\u001b[39m(LOSS_PERCENTAGE)]\n",
      "\u001b[31mIndexError\u001b[39m: list index out of range"
     ]
    }
   ],
   "source": [
    "genAudioFiles(AUDIO_FILE_NAME[1])"
   ]
  },
  {
   "cell_type": "markdown",
   "id": "d816b08f",
   "metadata": {},
   "source": [
    "### PLC_MOS Scoring"
   ]
  },
  {
   "cell_type": "code",
   "execution_count": 70,
   "id": "2d81f8e1",
   "metadata": {},
   "outputs": [],
   "source": [
    "import soundfile as sf\n",
    "import pandas as pd\n",
    "from plc_mos import PLCMOSEstimator"
   ]
  },
  {
   "cell_type": "code",
   "execution_count": 71,
   "id": "0b63b7fe",
   "metadata": {},
   "outputs": [
    {
     "data": {
      "text/plain": [
       "1.9935580809911093"
      ]
     },
     "execution_count": 71,
     "metadata": {},
     "output_type": "execute_result"
    }
   ],
   "source": [
    "plcmos = PLCMOSEstimator()\n",
    "data, sr = sf.read(\"./scored-audio/3g-loss10/opusPlc.wav\")\n",
    "mos = plcmos.run(data, sr)\n",
    "mos"
   ]
  },
  {
   "cell_type": "code",
   "execution_count": 72,
   "id": "e1146630",
   "metadata": {},
   "outputs": [],
   "source": [
    "rows = []\n",
    "plc = []\n",
    "normal = []"
   ]
  },
  {
   "cell_type": "code",
   "execution_count": 73,
   "id": "35f2c216",
   "metadata": {},
   "outputs": [],
   "source": [
    "for networkType in os.listdir(SCORED_AUDIO_DIR):\n",
    "    rows.append(networkType)\n",
    "    networkPath = SCORED_AUDIO_DIR + \"/\" + networkType\n",
    "    \n",
    "    plcFilePath = networkPath + \"/\" + AUDIO_FILE_NAME[0] + AUDIO_FILE_TYPE\n",
    "    data, sr = sf.read(plcFilePath)\n",
    "    mos = plcmos.run(data, sr)\n",
    "    plc.append(mos)\n",
    "\n",
    "    normalFilePath = networkPath + \"/\" + AUDIO_FILE_NAME[1] + AUDIO_FILE_TYPE\n",
    "    data, sr = sf.read(normalFilePath)\n",
    "    mos = plcmos.run(data, sr)\n",
    "    normal.append(mos)"
   ]
  },
  {
   "cell_type": "code",
   "execution_count": null,
   "id": "635aaf89",
   "metadata": {},
   "outputs": [
    {
     "data": {
      "text/html": [
       "<div>\n",
       "<style scoped>\n",
       "    .dataframe tbody tr th:only-of-type {\n",
       "        vertical-align: middle;\n",
       "    }\n",
       "\n",
       "    .dataframe tbody tr th {\n",
       "        vertical-align: top;\n",
       "    }\n",
       "\n",
       "    .dataframe thead th {\n",
       "        text-align: right;\n",
       "    }\n",
       "</style>\n",
       "<table border=\"1\" class=\"dataframe\">\n",
       "  <thead>\n",
       "    <tr style=\"text-align: right;\">\n",
       "      <th></th>\n",
       "      <th>opusPlc</th>\n",
       "      <th>normal</th>\n",
       "      <th>diff (opusPlc - normal)</th>\n",
       "    </tr>\n",
       "    <tr>\n",
       "      <th>Network Condition</th>\n",
       "      <th></th>\n",
       "      <th></th>\n",
       "      <th></th>\n",
       "    </tr>\n",
       "  </thead>\n",
       "  <tbody>\n",
       "    <tr>\n",
       "      <th>3g-loss0</th>\n",
       "      <td>2.659453</td>\n",
       "      <td>2.388245</td>\n",
       "      <td>0.271207</td>\n",
       "    </tr>\n",
       "    <tr>\n",
       "      <th>3g-loss10</th>\n",
       "      <td>1.993558</td>\n",
       "      <td>2.225534</td>\n",
       "      <td>-0.231976</td>\n",
       "    </tr>\n",
       "    <tr>\n",
       "      <th>3g-loss30</th>\n",
       "      <td>1.554802</td>\n",
       "      <td>1.575320</td>\n",
       "      <td>-0.020519</td>\n",
       "    </tr>\n",
       "    <tr>\n",
       "      <th>3g-loss50</th>\n",
       "      <td>1.444333</td>\n",
       "      <td>1.408174</td>\n",
       "      <td>0.036159</td>\n",
       "    </tr>\n",
       "    <tr>\n",
       "      <th>3g-loss70</th>\n",
       "      <td>1.290830</td>\n",
       "      <td>1.274282</td>\n",
       "      <td>0.016549</td>\n",
       "    </tr>\n",
       "    <tr>\n",
       "      <th>3g-loss90</th>\n",
       "      <td>1.204488</td>\n",
       "      <td>1.139217</td>\n",
       "      <td>0.065272</td>\n",
       "    </tr>\n",
       "    <tr>\n",
       "      <th>4g-loss0</th>\n",
       "      <td>2.688106</td>\n",
       "      <td>2.313467</td>\n",
       "      <td>0.374638</td>\n",
       "    </tr>\n",
       "    <tr>\n",
       "      <th>4g-loss10</th>\n",
       "      <td>2.383453</td>\n",
       "      <td>2.217185</td>\n",
       "      <td>0.166268</td>\n",
       "    </tr>\n",
       "    <tr>\n",
       "      <th>4g-loss30</th>\n",
       "      <td>2.213061</td>\n",
       "      <td>2.097387</td>\n",
       "      <td>0.115675</td>\n",
       "    </tr>\n",
       "    <tr>\n",
       "      <th>4g-loss50</th>\n",
       "      <td>1.363344</td>\n",
       "      <td>1.608949</td>\n",
       "      <td>-0.245605</td>\n",
       "    </tr>\n",
       "    <tr>\n",
       "      <th>4g-loss70</th>\n",
       "      <td>1.278961</td>\n",
       "      <td>1.297005</td>\n",
       "      <td>-0.018044</td>\n",
       "    </tr>\n",
       "    <tr>\n",
       "      <th>4g-loss90</th>\n",
       "      <td>1.191124</td>\n",
       "      <td>1.160655</td>\n",
       "      <td>0.030469</td>\n",
       "    </tr>\n",
       "  </tbody>\n",
       "</table>\n",
       "</div>"
      ],
      "text/plain": [
       "                    opusPlc    normal  diff (opusPlc - normal)\n",
       "Network Condition                                             \n",
       "3g-loss0           2.659453  2.388245                 0.271207\n",
       "3g-loss10          1.993558  2.225534                -0.231976\n",
       "3g-loss30          1.554802  1.575320                -0.020519\n",
       "3g-loss50          1.444333  1.408174                 0.036159\n",
       "3g-loss70          1.290830  1.274282                 0.016549\n",
       "3g-loss90          1.204488  1.139217                 0.065272\n",
       "4g-loss0           2.688106  2.313467                 0.374638\n",
       "4g-loss10          2.383453  2.217185                 0.166268\n",
       "4g-loss30          2.213061  2.097387                 0.115675\n",
       "4g-loss50          1.363344  1.608949                -0.245605\n",
       "4g-loss70          1.278961  1.297005                -0.018044\n",
       "4g-loss90          1.191124  1.160655                 0.030469"
      ]
     },
     "execution_count": 79,
     "metadata": {},
     "output_type": "execute_result"
    }
   ],
   "source": [
    "df = pd.DataFrame({\"Network Condition\": rows, AUDIO_FILE_NAME[0]: plc, AUDIO_FILE_NAME[1]: normal, \"diff (opusPlc - normal)\": (pd.Series(plc) - pd.Series(normal))})\n",
    "df = df.set_index(\"Network Condition\")\n",
    "df = df.sort_index()\n",
    "df.to_excel(\"output.xlsx\", sheet_name=\"Complexity5\")\n",
    "df"
   ]
  },
  {
   "cell_type": "code",
   "execution_count": null,
   "id": "ce56d194",
   "metadata": {},
   "outputs": [],
   "source": []
  }
 ],
 "metadata": {
  "kernelspec": {
   "display_name": "venv",
   "language": "python",
   "name": "python3"
  },
  "language_info": {
   "codemirror_mode": {
    "name": "ipython",
    "version": 3
   },
   "file_extension": ".py",
   "mimetype": "text/x-python",
   "name": "python",
   "nbconvert_exporter": "python",
   "pygments_lexer": "ipython3",
   "version": "3.12.3"
  }
 },
 "nbformat": 4,
 "nbformat_minor": 5
}
